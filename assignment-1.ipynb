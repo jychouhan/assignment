{
 "cells": [
  {
   "cell_type": "code",
   "execution_count": 1,
   "id": "c1bfefff-fe2e-469c-a961-6323d6fbddeb",
   "metadata": {},
   "outputs": [],
   "source": [
    "# Answer 1"
   ]
  },
  {
   "cell_type": "code",
   "execution_count": 2,
   "id": "aef73853-f949-4043-9b6b-090484a35dfd",
   "metadata": {},
   "outputs": [],
   "source": [
    "a = [\"jyoti\", 90.56, [\"mohan\", 1, 2, 3, 4, 78.45, True], (\"priyanka\", 21, 22, 23, True, 45.46)]"
   ]
  },
  {
   "cell_type": "code",
   "execution_count": 3,
   "id": "d3ea3166-9ffa-46e5-a336-da1d8eb46645",
   "metadata": {},
   "outputs": [
    {
     "data": {
      "text/plain": [
       "list"
      ]
     },
     "execution_count": 3,
     "metadata": {},
     "output_type": "execute_result"
    }
   ],
   "source": [
    "type(a)"
   ]
  },
  {
   "cell_type": "code",
   "execution_count": 4,
   "id": "990b5d09-dc2b-4277-b15b-4cd94a7babc7",
   "metadata": {},
   "outputs": [],
   "source": [
    "# Answer 2"
   ]
  },
  {
   "cell_type": "code",
   "execution_count": 5,
   "id": "dc1734c2-d3b4-445b-a428-bf4a85727ec4",
   "metadata": {},
   "outputs": [
    {
     "data": {
      "text/plain": [
       "' (i)   = string\\n    (ii)  = string\\n    (iii) = list\\n    (iv)  = float'"
      ]
     },
     "execution_count": 5,
     "metadata": {},
     "output_type": "execute_result"
    }
   ],
   "source": [
    "\"\"\" (i)   = string\n",
    "    (ii)  = string\n",
    "    (iii) = list\n",
    "    (iv)  = float\"\"\""
   ]
  },
  {
   "cell_type": "code",
   "execution_count": 6,
   "id": "807c4ab1-3a0b-4bc9-a9c5-c8de2aa7d1ca",
   "metadata": {},
   "outputs": [],
   "source": [
    "# Answer 3"
   ]
  },
  {
   "cell_type": "code",
   "execution_count": 7,
   "id": "5aaef6d3-af78-4eec-8b8d-2bec7d5a0a0e",
   "metadata": {},
   "outputs": [
    {
     "data": {
      "text/plain": [
       "3.5"
      ]
     },
     "execution_count": 7,
     "metadata": {},
     "output_type": "execute_result"
    }
   ],
   "source": [
    "# / operator carries out the float division.\n",
    "7 / 2"
   ]
  },
  {
   "cell_type": "code",
   "execution_count": 8,
   "id": "3485a852-8cb2-47cb-9a19-96f86ee4ec21",
   "metadata": {},
   "outputs": [
    {
     "data": {
      "text/plain": [
       "1"
      ]
     },
     "execution_count": 8,
     "metadata": {},
     "output_type": "execute_result"
    }
   ],
   "source": [
    "# % operator divides two operands and return reminder after division.\n",
    "13 % 3"
   ]
  },
  {
   "cell_type": "code",
   "execution_count": 9,
   "id": "ebd3e7d2-33d6-4a4d-ba75-5bf2ffe0a1b9",
   "metadata": {},
   "outputs": [
    {
     "data": {
      "text/plain": [
       "10"
      ]
     },
     "execution_count": 9,
     "metadata": {},
     "output_type": "execute_result"
    }
   ],
   "source": [
    "# // operator carries out the floor division.\n",
    "43//4"
   ]
  },
  {
   "cell_type": "code",
   "execution_count": 10,
   "id": "a49d1071-6ee3-47d6-a98c-85a92a44d0cf",
   "metadata": {},
   "outputs": [
    {
     "data": {
      "text/plain": [
       "1024"
      ]
     },
     "execution_count": 10,
     "metadata": {},
     "output_type": "execute_result"
    }
   ],
   "source": [
    "# ** operator raised the power of right operand to left operand.\n",
    "4**5"
   ]
  },
  {
   "cell_type": "code",
   "execution_count": 11,
   "id": "cf4badd3-dd77-4a4c-a4c8-c7bb325539e9",
   "metadata": {},
   "outputs": [],
   "source": [
    "# Answer 4"
   ]
  },
  {
   "cell_type": "code",
   "execution_count": 12,
   "id": "09729ea9-dd0a-4579-ba24-46df883bbe24",
   "metadata": {},
   "outputs": [],
   "source": [
    "l = [1, 2, 78.65, True, \"kanika\", False, {\"name\" : \"manisha\", \"result\" : 87.34}, [1,2,3,\"ram\",True,70.45], {2,4,6,5,8,7,9}, (\"monika\", False, 87.45)]"
   ]
  },
  {
   "cell_type": "code",
   "execution_count": 13,
   "id": "49b52715-8256-4baa-a8c5-f254057fcbc3",
   "metadata": {},
   "outputs": [
    {
     "data": {
      "text/plain": [
       "list"
      ]
     },
     "execution_count": 13,
     "metadata": {},
     "output_type": "execute_result"
    }
   ],
   "source": [
    "type(l)"
   ]
  },
  {
   "cell_type": "code",
   "execution_count": 14,
   "id": "8eb7ec7b-ae37-4308-9209-a25106ea870b",
   "metadata": {},
   "outputs": [
    {
     "name": "stdout",
     "output_type": "stream",
     "text": [
      "<class 'int'>\n",
      "1\n",
      "<class 'int'>\n",
      "2\n",
      "<class 'float'>\n",
      "78.65\n",
      "<class 'bool'>\n",
      "True\n",
      "<class 'str'>\n",
      "kanika\n",
      "<class 'bool'>\n",
      "False\n",
      "<class 'dict'>\n",
      "{'name': 'manisha', 'result': 87.34}\n",
      "<class 'list'>\n",
      "[1, 2, 3, 'ram', True, 70.45]\n",
      "<class 'set'>\n",
      "{2, 4, 5, 6, 7, 8, 9}\n",
      "<class 'tuple'>\n",
      "('monika', False, 87.45)\n"
     ]
    }
   ],
   "source": [
    "for i in l:\n",
    "    print (type(i))\n",
    "    print(i)"
   ]
  },
  {
   "cell_type": "code",
   "execution_count": 15,
   "id": "73e21e39-4fd8-4a73-a58c-3319359625e7",
   "metadata": {},
   "outputs": [],
   "source": [
    "# Answer 5"
   ]
  },
  {
   "cell_type": "code",
   "execution_count": 16,
   "id": "f4f7dabb-bca5-4870-9dd4-6c7ff036abe1",
   "metadata": {},
   "outputs": [
    {
     "name": "stdin",
     "output_type": "stream",
     "text": [
      "enter number A 56\n",
      "enter number B 8\n"
     ]
    },
    {
     "name": "stdout",
     "output_type": "stream",
     "text": [
      "number is purely divisible by 8\n",
      "division count : 1\n"
     ]
    }
   ],
   "source": [
    "A = int(input(\"enter number A\"))\n",
    "B = int(input(\"enter number B\"))\n",
    "count = 0\n",
    "while A % B == 0:\n",
    "    A = A / B\n",
    "    count += 1\n",
    "if count >0:\n",
    "    print(f\"number is purely divisible by {B}\")\n",
    "    print(f\"division count : {count}\")\n",
    "else:\n",
    "     print(f\"number is not purely divisible by {B}\")\n"
   ]
  },
  {
   "cell_type": "code",
   "execution_count": 17,
   "id": "8d48a9f6-2fea-42b1-9679-9138f9fb8805",
   "metadata": {},
   "outputs": [],
   "source": [
    "# Answer 6"
   ]
  },
  {
   "cell_type": "code",
   "execution_count": 18,
   "id": "2199f245-e02d-4e3c-b437-11e07f8d9526",
   "metadata": {},
   "outputs": [],
   "source": [
    "number = [34,12,24,35,67,89,78,27,30,45,69,53,62,97,85,75,83,54,87,46,72,34,50,67,56]"
   ]
  },
  {
   "cell_type": "code",
   "execution_count": 19,
   "id": "fbc21e96-71c4-4ed9-9814-3bfb5feb25a4",
   "metadata": {},
   "outputs": [
    {
     "data": {
      "text/plain": [
       "25"
      ]
     },
     "execution_count": 19,
     "metadata": {},
     "output_type": "execute_result"
    }
   ],
   "source": [
    "len(number)"
   ]
  },
  {
   "cell_type": "code",
   "execution_count": 20,
   "id": "1fb323e2-1484-4c5b-a18d-44b4cc3f7a62",
   "metadata": {},
   "outputs": [
    {
     "name": "stdout",
     "output_type": "stream",
     "text": [
      "34 is not divisible by 3\n",
      "12 is divisible by 3\n",
      "24 is divisible by 3\n",
      "35 is not divisible by 3\n",
      "67 is not divisible by 3\n",
      "89 is not divisible by 3\n",
      "78 is divisible by 3\n",
      "27 is divisible by 3\n",
      "30 is divisible by 3\n",
      "45 is divisible by 3\n",
      "69 is divisible by 3\n",
      "53 is not divisible by 3\n",
      "62 is not divisible by 3\n",
      "97 is not divisible by 3\n",
      "85 is not divisible by 3\n",
      "75 is divisible by 3\n",
      "83 is not divisible by 3\n",
      "54 is divisible by 3\n",
      "87 is divisible by 3\n",
      "46 is not divisible by 3\n",
      "72 is divisible by 3\n",
      "34 is not divisible by 3\n",
      "50 is not divisible by 3\n",
      "67 is not divisible by 3\n",
      "56 is not divisible by 3\n"
     ]
    }
   ],
   "source": [
    "for i in number:\n",
    "    if i%3==0:\n",
    "        print(f\"{i} is divisible by 3\")\n",
    "    else:\n",
    "        print(f\"{i} is not divisible by 3\")"
   ]
  },
  {
   "cell_type": "code",
   "execution_count": 21,
   "id": "aa00ccab-6512-446b-a39c-f3823cb2c45a",
   "metadata": {},
   "outputs": [],
   "source": [
    "# Answer 7"
   ]
  },
  {
   "cell_type": "code",
   "execution_count": 22,
   "id": "04b11971-8330-4a0a-8f65-cbba92619b6c",
   "metadata": {},
   "outputs": [
    {
     "data": {
      "text/plain": [
       "\"Mutable data types allows data to change after creation, immutable data type doesn't allow.\\nList, dictionary and set are mutable data types. \\nInteger,float,bool,string and tuple are immutable data types. examples are below:\""
      ]
     },
     "execution_count": 22,
     "metadata": {},
     "output_type": "execute_result"
    }
   ],
   "source": [
    "\"\"\"Mutable data types allows data to change after creation, immutable data type doesn't allow.\n",
    "List, dictionary and set are mutable data types. \n",
    "Integer,float,bool,string and tuple are immutable data types. examples are below:\"\"\""
   ]
  },
  {
   "cell_type": "code",
   "execution_count": 23,
   "id": "87a7617e-0370-43d8-b31e-da217e685657",
   "metadata": {},
   "outputs": [],
   "source": [
    "# mutable data type\n",
    "L = [1,2,3,4,\"ram\",True,98.56]"
   ]
  },
  {
   "cell_type": "code",
   "execution_count": 24,
   "id": "8fe5beae-37a6-416c-890b-233140cbec37",
   "metadata": {},
   "outputs": [],
   "source": [
    "L[4] = \"sita\""
   ]
  },
  {
   "cell_type": "code",
   "execution_count": 25,
   "id": "c02106c1-3b01-43c5-94ad-20145a9f487b",
   "metadata": {},
   "outputs": [
    {
     "data": {
      "text/plain": [
       "[1, 2, 3, 4, 'sita', True, 98.56]"
      ]
     },
     "execution_count": 25,
     "metadata": {},
     "output_type": "execute_result"
    }
   ],
   "source": [
    "L"
   ]
  },
  {
   "cell_type": "code",
   "execution_count": 26,
   "id": "6fe43b37-d9b2-4b0d-bbc0-8c484f8d33ab",
   "metadata": {},
   "outputs": [],
   "source": [
    "# immutable data type\n",
    "r = \"radha\""
   ]
  },
  {
   "cell_type": "code",
   "execution_count": 27,
   "id": "f96ca004-2be5-49c6-8d67-cc14fed85618",
   "metadata": {},
   "outputs": [
    {
     "ename": "TypeError",
     "evalue": "'str' object does not support item assignment",
     "output_type": "error",
     "traceback": [
      "\u001b[0;31m---------------------------------------------------------------------------\u001b[0m",
      "\u001b[0;31mTypeError\u001b[0m                                 Traceback (most recent call last)",
      "Cell \u001b[0;32mIn[27], line 1\u001b[0m\n\u001b[0;32m----> 1\u001b[0m \u001b[43mr\u001b[49m\u001b[43m[\u001b[49m\u001b[38;5;241;43m2\u001b[39;49m\u001b[43m]\u001b[49m \u001b[38;5;241m=\u001b[39m \u001b[38;5;124m\"\u001b[39m\u001b[38;5;124mt\u001b[39m\u001b[38;5;124m\"\u001b[39m\n",
      "\u001b[0;31mTypeError\u001b[0m: 'str' object does not support item assignment"
     ]
    }
   ],
   "source": [
    "r[2] = \"t\""
   ]
  }
 ],
 "metadata": {
  "kernelspec": {
   "display_name": "Python 3 (ipykernel)",
   "language": "python",
   "name": "python3"
  },
  "language_info": {
   "codemirror_mode": {
    "name": "ipython",
    "version": 3
   },
   "file_extension": ".py",
   "mimetype": "text/x-python",
   "name": "python",
   "nbconvert_exporter": "python",
   "pygments_lexer": "ipython3",
   "version": "3.10.8"
  }
 },
 "nbformat": 4,
 "nbformat_minor": 5
}
